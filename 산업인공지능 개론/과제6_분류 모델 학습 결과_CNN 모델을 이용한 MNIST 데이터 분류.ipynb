{
 "cells": [
  {
   "cell_type": "code",
   "execution_count": null,
   "id": "ea60b7ee-9027-45e0-aa9c-3a4f54f2ef55",
   "metadata": {},
   "outputs": [],
   "source": [
    "#CNN 모델을 이용한 MNIST 데이터 분류"
   ]
  },
  {
   "cell_type": "code",
   "execution_count": 1,
   "id": "019be6dd-0d76-449d-b87b-e24f3af1fc2b",
   "metadata": {
    "tags": []
   },
   "outputs": [],
   "source": [
    "#-*- coding: utf-8 -*-\n",
    "from sklearn.datasets import fetch_openml\n",
    "mnist = fetch_openml('mnist_784', version=1, cache=True, as_frame=False)\n",
    "X = mnist.data\n",
    "y = mnist.target"
   ]
  },
  {
   "cell_type": "code",
   "execution_count": 2,
   "id": "e18ddcba-87e2-4216-93d5-2561318e6bc9",
   "metadata": {
    "tags": []
   },
   "outputs": [],
   "source": [
    "import torch\n",
    "from torch.utils.data import TensorDataset, DataLoader\n",
    "from sklearn.model_selection import train_test_split\n",
    "\n",
    "X_train, X_test, y_train, y_test = train_test_split(X, y, test_size=1/7, random_state=0)\n",
    "X_train = torch.Tensor(X_train)\n",
    "X_test = torch.Tensor(X_test)\n",
    "y_train = torch.LongTensor(list(map(int, y_train)))\n",
    "y_test = torch.LongTensor(list(map(int, y_test)))"
   ]
  },
  {
   "cell_type": "code",
   "execution_count": 3,
   "id": "07692737-c78f-4a35-90ee-0429a3ade44c",
   "metadata": {
    "tags": []
   },
   "outputs": [
    {
     "name": "stdout",
     "output_type": "stream",
     "text": [
      "torch.Size([60000, 1, 28, 28])\n",
      "torch.Size([10000, 1, 28, 28])\n"
     ]
    }
   ],
   "source": [
    "import torch.nn as nn\n",
    "import torch.nn.functional as F\n",
    "from torch import optim\n",
    "from torch.autograd import Variable\n",
    "\n",
    "X_train = X_train.view(-1, 1,28,28).float() \n",
    "X_test = X_test.view(-1,1,28,28).float() \n",
    "print(X_train.shape)\n",
    "print(X_test.shape)"
   ]
  },
  {
   "cell_type": "code",
   "execution_count": 4,
   "id": "57bd4432-ba33-4d78-b12a-8d6c4b7f4814",
   "metadata": {
    "tags": []
   },
   "outputs": [],
   "source": [
    "train = TensorDataset(X_train, y_train)\n",
    "test = TensorDataset(X_test, y_test)\n",
    "BATCH_SIZE = 32\n",
    "loader_train = DataLoader(train, batch_size = BATCH_SIZE, shuffle = False)\n",
    "loader_test = DataLoader(test, batch_size = BATCH_SIZE, shuffle = False)\n"
   ]
  },
  {
   "cell_type": "code",
   "execution_count": 5,
   "id": "fbe39698-c6e9-421c-8784-b3c49ec7ca94",
   "metadata": {
    "tags": []
   },
   "outputs": [],
   "source": [
    "class CNN(nn.Module):\n",
    "    def __init__(self):\n",
    "        super(CNN, self).__init__()\n",
    "        self.conv1 = nn.Conv2d(1, 32, kernel_size=5)\n",
    "        self.conv2 = nn.Conv2d(32, 32, kernel_size=5)\n",
    "        self.conv3 = nn.Conv2d(32, 64, kernel_size=5)\n",
    "        self.fc1 = nn.Linear(3 * 3 * 64, 256)\n",
    "        self.fc2 = nn.Linear(256, 10)\n",
    "        self.loss_fn = nn.CrossEntropyLoss()\n",
    "        self.optimizer = optim.Adam(self.parameters(), lr=0.01)\n",
    "\n",
    "    def forward(self, x):\n",
    "        x = F.relu(self.conv1(x))\n",
    "        x = F.relu(F.max_pool2d(self.conv2(x), 2))\n",
    "        x = F.dropout(x, p=0.5, training=self.training)\n",
    "        x = F.relu(F.max_pool2d(self.conv3(x), 2))\n",
    "        x = F.dropout(x, p=0.5, training=self.training)\n",
    "        x = x.view(-1, 3 * 3 * 64)\n",
    "        x = F.relu(self.fc1(x))\n",
    "        x = F.dropout(x, training=self.training)\n",
    "        x = self.fc2(x)\n",
    "        return F.log_softmax(x, dim=1)\n"
   ]
  },
  {
   "cell_type": "code",
   "execution_count": 6,
   "id": "8114d4b0-b835-4c4e-8d74-eefe11eaf575",
   "metadata": {},
   "outputs": [],
   "source": [
    "def fit(model, loader_train):\n",
    "    optimizer = torch.optim.Adam(model.parameters())\n",
    "    error = nn.CrossEntropyLoss()\n",
    "    EPOCHS = 1\n",
    "    model.train()\n",
    "    for epoch in range(EPOCHS):\n",
    "        correct = 0\n",
    "        for batch_idx, (X_batch, y_batch) in enumerate(loader_train):\n",
    "            var_X_batch = Variable(X_batch).float()\n",
    "            var_y_batch = Variable(y_batch)\n",
    "            optimizer.zero_grad()\n",
    "            output = model(var_X_batch)\n",
    "            loss = error(output, var_y_batch)\n",
    "            loss.backward()\n",
    "            optimizer.step()\n",
    "            predicted = torch.max(output.data, 1)[1]\n",
    "            correct += (predicted == var_y_batch).sum()\n",
    "            if batch_idx % 50 == 0:\n",
    "                print('에포크:{} [{}/{} ({:.0f}%)] Loss:{:.6f} Accuracy:{:.3f}%'.format(\n",
    "                    epoch, batch_idx*len(X_batch), len(loader_train),\n",
    "                    100. * batch_idx / len(loader_train),\n",
    "                    loss.data,\n",
    "                    correct*100. / (BATCH_SIZE*(batch_idx+1))\n",
    "                    ))\n",
    "\n",
    "def evaluate(model):\n",
    "    correct = 0\n",
    "    for test_imgs, test_labels in loader_test:\n",
    "        test_imgs = Variable(test_imgs).float()\n",
    "        output = model(test_imgs)\n",
    "        predicted = torch.max(output, 1)[1]\n",
    "        correct += (predicted == test_labels).sum()\n",
    "    print(\"테스트 데이터 정확도:{:.1f}%\".format(float(correct) / (len(loader_test)*BATCH_SIZE) * 100))"
   ]
  },
  {
   "cell_type": "code",
   "execution_count": 7,
   "id": "8dc9af14-dd9f-4b0b-a53e-0de9e9b18e86",
   "metadata": {
    "tags": []
   },
   "outputs": [
    {
     "data": {
      "text/plain": [
       "Conv2d(3, 64, kernel_size=(3, 3), stride=(1, 1))"
      ]
     },
     "execution_count": 7,
     "metadata": {},
     "output_type": "execute_result"
    }
   ],
   "source": [
    "torch.nn.Conv2d(in_channels=3, out_channels=64, kernel_size=3, \n",
    "                stride=1, padding=0, dilation=1, groups=1, \n",
    "                bias=True, padding_mode='zeros')"
   ]
  },
  {
   "cell_type": "code",
   "execution_count": 8,
   "id": "1853ccb1-45bb-4cee-9da8-fc2dc63f082a",
   "metadata": {},
   "outputs": [
    {
     "name": "stdout",
     "output_type": "stream",
     "text": [
      "테스트 데이터 정확도:10.5%\n",
      "에포크:0 [0/1875 (0%)] Loss:12.333016 Accuracy:3.125%\n",
      "에포크:0 [1600/1875 (3%)] Loss:1.667812 Accuracy:20.221%\n",
      "에포크:0 [3200/1875 (5%)] Loss:1.332987 Accuracy:37.809%\n",
      "에포크:0 [4800/1875 (8%)] Loss:1.088057 Accuracy:49.793%\n",
      "에포크:0 [6400/1875 (11%)] Loss:0.751832 Accuracy:56.934%\n",
      "에포크:0 [8000/1875 (13%)] Loss:0.707075 Accuracy:61.877%\n",
      "에포크:0 [9600/1875 (16%)] Loss:0.461504 Accuracy:65.750%\n",
      "에포크:0 [11200/1875 (19%)] Loss:0.336383 Accuracy:68.866%\n",
      "에포크:0 [12800/1875 (21%)] Loss:0.700188 Accuracy:71.166%\n",
      "에포크:0 [14400/1875 (24%)] Loss:0.370195 Accuracy:72.900%\n",
      "에포크:0 [16000/1875 (27%)] Loss:0.397187 Accuracy:74.345%\n",
      "에포크:0 [17600/1875 (29%)] Loss:0.572232 Accuracy:75.613%\n",
      "에포크:0 [19200/1875 (32%)] Loss:0.387874 Accuracy:76.773%\n",
      "에포크:0 [20800/1875 (35%)] Loss:0.291348 Accuracy:77.746%\n",
      "에포크:0 [22400/1875 (37%)] Loss:0.218434 Accuracy:78.620%\n",
      "에포크:0 [24000/1875 (40%)] Loss:0.154780 Accuracy:79.440%\n",
      "에포크:0 [25600/1875 (43%)] Loss:0.127551 Accuracy:80.165%\n",
      "에포크:0 [27200/1875 (45%)] Loss:0.514867 Accuracy:80.820%\n",
      "에포크:0 [28800/1875 (48%)] Loss:0.182238 Accuracy:81.392%\n",
      "에포크:0 [30400/1875 (51%)] Loss:0.086035 Accuracy:81.996%\n",
      "에포크:0 [32000/1875 (53%)] Loss:0.432512 Accuracy:82.480%\n",
      "에포크:0 [33600/1875 (56%)] Loss:0.395745 Accuracy:82.897%\n",
      "에포크:0 [35200/1875 (59%)] Loss:0.121109 Accuracy:83.345%\n",
      "에포크:0 [36800/1875 (61%)] Loss:0.323759 Accuracy:83.702%\n",
      "에포크:0 [38400/1875 (64%)] Loss:0.433198 Accuracy:84.099%\n",
      "에포크:0 [40000/1875 (67%)] Loss:0.233072 Accuracy:84.462%\n",
      "에포크:0 [41600/1875 (69%)] Loss:0.196501 Accuracy:84.791%\n",
      "에포크:0 [43200/1875 (72%)] Loss:0.081197 Accuracy:85.062%\n",
      "에포크:0 [44800/1875 (75%)] Loss:0.492280 Accuracy:85.345%\n",
      "에포크:0 [46400/1875 (77%)] Loss:0.295034 Accuracy:85.635%\n",
      "에포크:0 [48000/1875 (80%)] Loss:0.330702 Accuracy:85.924%\n",
      "에포크:0 [49600/1875 (83%)] Loss:0.227206 Accuracy:86.154%\n",
      "에포크:0 [51200/1875 (85%)] Loss:0.210504 Accuracy:86.395%\n",
      "에포크:0 [52800/1875 (88%)] Loss:0.479497 Accuracy:86.582%\n",
      "에포크:0 [54400/1875 (91%)] Loss:0.366381 Accuracy:86.807%\n",
      "에포크:0 [56000/1875 (93%)] Loss:0.260617 Accuracy:87.002%\n",
      "에포크:0 [57600/1875 (96%)] Loss:0.304794 Accuracy:87.203%\n",
      "에포크:0 [59200/1875 (99%)] Loss:0.177695 Accuracy:87.409%\n",
      "테스트 데이터 정확도:97.0%\n",
      "10 번째 학습데이터의 테스트 결과: tensor([[-1.1848e+01, -5.6027e-05, -1.1209e+01, -1.5554e+01, -1.2543e+01,\n",
      "         -1.4485e+01, -1.1522e+01, -1.2408e+01, -1.0986e+01, -1.5028e+01]],\n",
      "       grad_fn=<LogSoftmaxBackward0>)\n",
      "10번째 학습데이터 예측: [1]\n",
      "실제 레이블: 1\n"
     ]
    }
   ],
   "source": [
    "cnn = CNN()\n",
    "evaluate(cnn)\n",
    "fit(cnn, loader_train)\n",
    "cnn.eval()\n",
    "evaluate(cnn)\n",
    "\n",
    "index = 10  # 테스트 데이터 중에서 확인해볼 데이터의 인덱스\n",
    "data = X_test[index].view(-1, 1, 28, 28).float()\n",
    "output = cnn(data)\n",
    "print('{} 번째 학습데이터의 테스트 결과: {}'.format(index, output))\n",
    "_, predicted = torch.max(output, 1)\n",
    "print('{}번째 학습데이터 예측: {}'.format(index, predicted.numpy()))\n",
    "print('실제 레이블: {}'.format(y_test[index]))"
   ]
  },
  {
   "cell_type": "code",
   "execution_count": null,
   "id": "dd4d732d-e670-468d-b05d-6f6ed07120e1",
   "metadata": {},
   "outputs": [],
   "source": []
  }
 ],
 "metadata": {
  "kernelspec": {
   "display_name": "Python 3 (ipykernel)",
   "language": "python",
   "name": "python3"
  },
  "language_info": {
   "codemirror_mode": {
    "name": "ipython",
    "version": 3
   },
   "file_extension": ".py",
   "mimetype": "text/x-python",
   "name": "python",
   "nbconvert_exporter": "python",
   "pygments_lexer": "ipython3",
   "version": "3.9.13"
  }
 },
 "nbformat": 4,
 "nbformat_minor": 5
}
