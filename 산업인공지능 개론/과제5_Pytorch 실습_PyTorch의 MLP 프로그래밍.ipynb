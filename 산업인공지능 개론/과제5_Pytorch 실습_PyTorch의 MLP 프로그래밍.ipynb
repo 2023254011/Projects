{
 "cells": [
  {
   "cell_type": "code",
   "execution_count": 1,
   "id": "13776d85-4d90-4d80-bd24-2e6cc4c69629",
   "metadata": {
    "tags": []
   },
   "outputs": [],
   "source": [
    "#[실습] PyTorch의 MLP 프로그래밍\n",
    "# -*- coding: utf-8 -*-\n",
    "\n",
    "from sklearn.datasets import fetch_openml\n",
    "mnist = fetch_openml('mnist_784', version=1, cache=True, as_frame=False)#DataFrame으로 변환하지 않도록 설정\n",
    "X = mnist.data/255\n",
    "y = mnist.target"
   ]
  },
  {
   "cell_type": "code",
   "execution_count": 2,
   "id": "a3062baa-94b8-454f-ae8a-44bd24a34398",
   "metadata": {
    "tags": []
   },
   "outputs": [],
   "source": [
    "import matplotlib.pyplot as plt"
   ]
  },
  {
   "cell_type": "code",
   "execution_count": 3,
   "id": "832b059f-b4a2-45b0-a100-a50a6c304d60",
   "metadata": {
    "tags": []
   },
   "outputs": [
    {
     "data": {
      "text/plain": [
       "array([[0., 0., 0., ..., 0., 0., 0.],\n",
       "       [0., 0., 0., ..., 0., 0., 0.],\n",
       "       [0., 0., 0., ..., 0., 0., 0.],\n",
       "       ...,\n",
       "       [0., 0., 0., ..., 0., 0., 0.],\n",
       "       [0., 0., 0., ..., 0., 0., 0.],\n",
       "       [0., 0., 0., ..., 0., 0., 0.]])"
      ]
     },
     "execution_count": 3,
     "metadata": {},
     "output_type": "execute_result"
    }
   ],
   "source": [
    "X"
   ]
  },
  {
   "cell_type": "code",
   "execution_count": 4,
   "id": "c0df6b70-8a22-404c-b4ae-232f12cbf1f2",
   "metadata": {
    "tags": []
   },
   "outputs": [
    {
     "data": {
      "text/plain": [
       "(70000, 784)"
      ]
     },
     "execution_count": 4,
     "metadata": {},
     "output_type": "execute_result"
    }
   ],
   "source": [
    "X.shape"
   ]
  },
  {
   "cell_type": "code",
   "execution_count": 5,
   "id": "b708185a-a38e-4ca7-a4fa-afac7efe954c",
   "metadata": {
    "tags": []
   },
   "outputs": [
    {
     "data": {
      "text/plain": [
       "<matplotlib.image.AxesImage at 0x19bb8bd9c40>"
      ]
     },
     "execution_count": 5,
     "metadata": {},
     "output_type": "execute_result"
    },
    {
     "data": {
      "image/png": "[encoded data removed]",
      "text/plain": [
       "<Figure size 640x480 with 1 Axes>"
      ]
     },
     "metadata": {},
     "output_type": "display_data"
    }
   ],
   "source": [
    "plt.imshow(X[0].reshape(28,28), cmap='gray')"
   ]
  },
  {
   "cell_type": "code",
   "execution_count": 6,
   "id": "6f4e06a1-719c-4642-a739-c465e47425dd",
   "metadata": {
    "tags": []
   },
   "outputs": [
    {
     "name": "stdout",
     "output_type": "stream",
     "text": [
      "이미지 레이블: 5\n"
     ]
    }
   ],
   "source": [
    "plt.show()\n",
    "print(\"이미지 레이블: {}\".format(y[0]))"
   ]
  },
  {
   "cell_type": "code",
   "execution_count": 7,
   "id": "807490ba-b14b-48a3-b167-274ea2076a07",
   "metadata": {
    "tags": []
   },
   "outputs": [],
   "source": [
    "import torch\n",
    "from torch.utils.data import TensorDataset, DataLoader\n",
    "from sklearn.model_selection import train_test_split\n",
    "X_train, X_test, y_train, y_test = train_test_split(X,y, test_size=1/7, random_state=0)\n",
    "X_train = torch.Tensor(X_train)\n",
    "X_test = torch.Tensor(X_test)\n",
    "y_train = torch.LongTensor(list(map(int, y_train)))\n",
    "y_test = torch.LongTensor(list(map(int, y_test)))\n",
    "\n",
    "ds_train = TensorDataset(X_train, y_train)\n",
    "ds_test = TensorDataset(X_test, y_test)\n",
    "loader_train = DataLoader(ds_train, batch_size=64, shuffle=True)\n",
    "loader_test = DataLoader(ds_test, batch_size=64, shuffle=False)\n"
   ]
  },
  {
   "cell_type": "code",
   "execution_count": 8,
   "id": "41c069c4-e3d3-43d1-bdee-03c1a0c09629",
   "metadata": {
    "tags": []
   },
   "outputs": [],
   "source": [
    "from torch import nn\n",
    "model = nn.Sequential( )\n",
    "model.add_module('fc1', nn.Linear(28*28*1, 100))\n",
    "model.add_module('relu1', nn.ReLU())\n",
    "model.add_module('fc2', nn.Linear(100,100))\n",
    "model.add_module('relu2', nn.ReLU())\n",
    "model.add_module('fc3', nn.Linear(100,10))"
   ]
  },
  {
   "cell_type": "code",
   "execution_count": 9,
   "id": "aa8e09c0-4820-448e-83e7-bb662cb89a01",
   "metadata": {
    "tags": []
   },
   "outputs": [],
   "source": [
    "from torch import optim\n",
    "loss_fn = nn.CrossEntropyLoss() #\n",
    "optimizer = optim.Adam(model.parameters( ), lr=0.01)"
   ]
  },
  {
   "cell_type": "code",
   "execution_count": 10,
   "id": "ea25a0f5-d853-4adc-a524-ac195b8f1ac3",
   "metadata": {
    "tags": []
   },
   "outputs": [],
   "source": [
    "def train(epoch):\n",
    "    model.train()\n",
    "    for data, targets in loader_train:\n",
    "        optimizer.zero_grad()\n",
    "        outputs = model(data)\n",
    "        loss = loss_fn(outputs, targets)\n",
    "        loss.backward() \n",
    "        optimizer.step()\n",
    "    print('에포크 {}: 완료'.format(epoch))"
   ]
  },
  {
   "cell_type": "code",
   "execution_count": 11,
   "id": "254cd106-d727-4fa6-9f8a-b8c9d6e496dd",
   "metadata": {
    "tags": []
   },
   "outputs": [],
   "source": [
    "def test(head):\n",
    "    model.eval() # E^E 952 \n",
    "    correct = 0\n",
    "    with torch.no_grad():\n",
    "        for data, targets in loader_test:\n",
    "            outputs = model(data)\n",
    "            _, predicted = torch.max(outputs.data, 1)\n",
    "            correct += predicted.eq(targets.data.view_as(predicted)).sum()\n",
    "    data_num = len(loader_test.dataset)\n",
    "    print('{} 정확도 :{}/{}({:.0f}%)'.format(head,correct,data_num,100*correct/data_num))\n",
    "    #print('{} 정확도: {}/{}({:.Of}%)'.format(head, correct, data_num, 100.*correct/data_num))"
   ]
  },
  {
   "cell_type": "code",
   "execution_count": 12,
   "id": "abc56c1b-977c-4411-a382-76e6ce088047",
   "metadata": {
    "tags": []
   },
   "outputs": [
    {
     "name": "stdout",
     "output_type": "stream",
     "text": [
      "시작 정확도 :978/10000(10%)\n",
      "에포크 0: 완료\n",
      "학습중 정확도 :9493/10000(95%)\n",
      "에포크 1: 완료\n",
      "학습중 정확도 :9460/10000(95%)\n",
      "에포크 2: 완료\n",
      "학습중 정확도 :9550/10000(96%)\n",
      "학습 후 정확도 :9550/10000(96%)\n"
     ]
    }
   ],
   "source": [
    "test('시작')\n",
    "for epoch in range(3): \n",
    "    train(epoch) \n",
    "    test('학습중') \n",
    "test('학습 후')"
   ]
  },
  {
   "cell_type": "code",
   "execution_count": 13,
   "id": "71c74c8c-b393-4b2a-a2fa-bdc0058da1a4",
   "metadata": {
    "tags": []
   },
   "outputs": [
    {
     "name": "stdout",
     "output_type": "stream",
     "text": [
      "10 번째 학습데이터 테스트 결과 : tensor([-21.2931,  15.9167,  -7.7905,  -8.7421, -12.6379, -13.2327, -15.0067,\n",
      "          2.1280,  -9.2885,  -8.8896], grad_fn=<AddBackward0>)\n",
      "10 번째 데이터 예측 : torch.return_types.max(\n",
      "values=tensor(15.9167),\n",
      "indices=tensor(1))\n",
      "싷제 레이블 : 1\n"
     ]
    },
    {
     "data": {
      "image/png": "[encoded data removed]",
      "text/plain": [
       "<Figure size 640x480 with 1 Axes>"
      ]
     },
     "metadata": {},
     "output_type": "display_data"
    }
   ],
   "source": [
    "index = 10 # 테스트 데이터 중에서 확인해볼 데이터의 인덱스\n",
    "model.eval() # 9\n",
    "data = X_test[index]\n",
    "output = model(data) #\n",
    "print('{} 번째 학습데이터 테스트 결과 : {}'.format(index,output))\n",
    "predicted = torch.max(output.data, 0)\n",
    "print('{} 번째 데이터 예측 : {}'.format(index, predicted))\n",
    "X_test_show = (X_test[index]).numpy()\n",
    "plt.imshow(X_test_show.reshape(28,28), cmap='gray')\n",
    "print('싷제 레이블 : {}'.format(y_test[index]))"
   ]
  },
  {
   "cell_type": "code",
   "execution_count": null,
   "id": "16acbebe-677d-45a7-871a-73b7f1fc163b",
   "metadata": {},
   "outputs": [],
   "source": []
  }
 ],
 "metadata": {
  "kernelspec": {
   "display_name": "Python 3 (ipykernel)",
   "language": "python",
   "name": "python3"
  },
  "language_info": {
   "codemirror_mode": {
    "name": "ipython",
    "version": 3
   },
   "file_extension": ".py",
   "mimetype": "text/x-python",
   "name": "python",
   "nbconvert_exporter": "python",
   "pygments_lexer": "ipython3",
   "version": "3.9.13"
  }
 },
 "nbformat": 4,
 "nbformat_minor": 5
}
