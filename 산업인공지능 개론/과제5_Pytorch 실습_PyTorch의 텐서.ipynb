{
 "cells": [
  {
   "cell_type": "code",
   "execution_count": 2,
   "id": "b246a1a3-c934-4d15-bebb-e38880d9b713",
   "metadata": {
    "tags": []
   },
   "outputs": [],
   "source": [
    "#PyTorch의 텐서\n",
    "import torch\n",
    "from torch.autograd import Variable"
   ]
  },
  {
   "cell_type": "code",
   "execution_count": 6,
   "id": "1a7bca56-2e42-4271-b9e5-4a69e1c9d973",
   "metadata": {
    "tags": []
   },
   "outputs": [
    {
     "name": "stdout",
     "output_type": "stream",
     "text": [
      "x =  tensor([[2.]], requires_grad=True)\n",
      "x.data =  tensor([[2.]])\n",
      "x.grad =  None\n",
      "x.grad_fn() =  None\n",
      "Wny =  tensor([[12.]], grad_fn=<MulBackward0>)\n",
      "y.data =  tensor([[12.]])\n",
      "y.grad =  None\n",
      "y.grad_fn() =  <MulBackward0 object at 0x0000024910868070>\n"
     ]
    },
    {
     "name": "stderr",
     "output_type": "stream",
     "text": [
      "C:\\Users\\leese\\AppData\\Local\\Temp\\ipykernel_9752\\2579661093.py:9: UserWarning: The .grad attribute of a Tensor that is not a leaf Tensor is being accessed. Its .grad attribute won't be populated during autograd.backward(). If you indeed want the .grad field to be populated for a non-leaf Tensor, use .retain_grad() on the non-leaf Tensor. If you access the non-leaf Tensor by mistake, make sure you access the leaf Tensor instead. See github.com/pytorch/pytorch/pull/30531 for more informations. (Triggered internally at C:\\actions-runner\\_work\\pytorch\\pytorch\\builder\\windows\\pytorch\\build\\aten\\src\\ATen/core/TensorBody.h:492.)\n",
      "  print('y.grad = ', y.grad)\n"
     ]
    }
   ],
   "source": [
    "x = Variable(torch.tensor([[2.]]), requires_grad= True)\n",
    "print('x = ', x)\n",
    "print('x.data = ', x.data)\n",
    "print('x.grad = ', x.grad)\n",
    "print('x.grad_fn() = ', x.grad_fn)\n",
    "y = x*x* 3\n",
    "print('Wny = ', y)\n",
    "print('y.data = ', y.data)\n",
    "print('y.grad = ', y.grad)\n",
    "print('y.grad_fn() = ', y.grad_fn)\n",
    "z = y**2"
   ]
  },
  {
   "cell_type": "code",
   "execution_count": 7,
   "id": "e00e615b-6cf1-4e66-974b-4cc6cf333991",
   "metadata": {
    "tags": []
   },
   "outputs": [
    {
     "name": "stdout",
     "output_type": "stream",
     "text": [
      "Wnz =  tensor([[144.]], grad_fn=<PowBackward0>)\n",
      "z.data =  tensor([[144.]])\n",
      "z.grad =  None\n",
      "WnAfter invocation of backward()\n",
      "Wnx =  tensor([[2.]], requires_grad=True)\n",
      "x.data =  tensor([[2.]])\n",
      "x.grad =  tensor([[288.]])\n",
      "x.grad_fn() =  None\n",
      "Wny =  tensor([[12.]], grad_fn=<MulBackward0>)\n",
      "y.data =  tensor([[12.]])\n",
      "y.grad None\n",
      "y.grad_fn() =  <MulBackward0 object at 0x000002491084F130>\n",
      "Wnz =  tensor([[144.]], grad_fn=<PowBackward0>)\n",
      "z.data =  tensor([[144.]])\n",
      "z.grad =  None\n"
     ]
    },
    {
     "name": "stderr",
     "output_type": "stream",
     "text": [
      "C:\\Users\\leese\\AppData\\Local\\Temp\\ipykernel_9752\\1369581737.py:3: UserWarning: The .grad attribute of a Tensor that is not a leaf Tensor is being accessed. Its .grad attribute won't be populated during autograd.backward(). If you indeed want the .grad field to be populated for a non-leaf Tensor, use .retain_grad() on the non-leaf Tensor. If you access the non-leaf Tensor by mistake, make sure you access the leaf Tensor instead. See github.com/pytorch/pytorch/pull/30531 for more informations. (Triggered internally at C:\\actions-runner\\_work\\pytorch\\pytorch\\builder\\windows\\pytorch\\build\\aten\\src\\ATen/core/TensorBody.h:492.)\n",
      "  print('z.grad = ', z.grad)\n",
      "C:\\Users\\leese\\AppData\\Local\\Temp\\ipykernel_9752\\1369581737.py:12: UserWarning: The .grad attribute of a Tensor that is not a leaf Tensor is being accessed. Its .grad attribute won't be populated during autograd.backward(). If you indeed want the .grad field to be populated for a non-leaf Tensor, use .retain_grad() on the non-leaf Tensor. If you access the non-leaf Tensor by mistake, make sure you access the leaf Tensor instead. See github.com/pytorch/pytorch/pull/30531 for more informations. (Triggered internally at C:\\actions-runner\\_work\\pytorch\\pytorch\\builder\\windows\\pytorch\\build\\aten\\src\\ATen/core/TensorBody.h:492.)\n",
      "  print('y.grad', y.grad)\n",
      "C:\\Users\\leese\\AppData\\Local\\Temp\\ipykernel_9752\\1369581737.py:16: UserWarning: The .grad attribute of a Tensor that is not a leaf Tensor is being accessed. Its .grad attribute won't be populated during autograd.backward(). If you indeed want the .grad field to be populated for a non-leaf Tensor, use .retain_grad() on the non-leaf Tensor. If you access the non-leaf Tensor by mistake, make sure you access the leaf Tensor instead. See github.com/pytorch/pytorch/pull/30531 for more informations. (Triggered internally at C:\\actions-runner\\_work\\pytorch\\pytorch\\builder\\windows\\pytorch\\build\\aten\\src\\ATen/core/TensorBody.h:492.)\n",
      "  print('z.grad = ', z.grad)\n"
     ]
    }
   ],
   "source": [
    "print('Wnz = ', z)\n",
    "print('z.data = ', z.data)\n",
    "print('z.grad = ', z.grad)\n",
    "z.backward()\n",
    "print('WnAfter invocation of backward()')\n",
    "print('Wnx = ', x)\n",
    "print('x.data = ', x.data)\n",
    "print('x.grad = ', x.grad)\n",
    "print('x.grad_fn() = ', x.grad_fn)\n",
    "print('Wny = ', y)\n",
    "print('y.data = ', y.data)\n",
    "print('y.grad', y.grad)\n",
    "print('y.grad_fn() = ', y.grad_fn)\n",
    "print('Wnz = ', z)\n",
    "print('z.data = ', z.data)\n",
    "print('z.grad = ', z.grad)"
   ]
  }
 ],
 "metadata": {
  "kernelspec": {
   "display_name": "Python 3 (ipykernel)",
   "language": "python",
   "name": "python3"
  },
  "language_info": {
   "codemirror_mode": {
    "name": "ipython",
    "version": 3
   },
   "file_extension": ".py",
   "mimetype": "text/x-python",
   "name": "python",
   "nbconvert_exporter": "python",
   "pygments_lexer": "ipython3",
   "version": "3.9.13"
  }
 },
 "nbformat": 4,
 "nbformat_minor": 5
}
